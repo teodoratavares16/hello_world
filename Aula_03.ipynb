{
  "nbformat": 4,
  "nbformat_minor": 0,
  "metadata": {
    "colab": {
      "provenance": [],
      "include_colab_link": true
    },
    "kernelspec": {
      "name": "python3",
      "display_name": "Python 3"
    },
    "language_info": {
      "name": "python"
    }
  },
  "cells": [
    {
      "cell_type": "markdown",
      "metadata": {
        "id": "view-in-github",
        "colab_type": "text"
      },
      "source": [
        "<a href=\"https://colab.research.google.com/github/teodoratavares16/hello_world/blob/main/Aula_03.ipynb\" target=\"_parent\"><img src=\"https://colab.research.google.com/assets/colab-badge.svg\" alt=\"Open In Colab\"/></a>"
      ]
    },
    {
      "cell_type": "markdown",
      "source": [
        "# Variáveis"
      ],
      "metadata": {
        "id": "PaaI_vySUqg4"
      }
    },
    {
      "cell_type": "markdown",
      "source": [
        "## IMC com variáveis 1"
      ],
      "metadata": {
        "id": "HUW3DOZ5UspC"
      }
    },
    {
      "cell_type": "code",
      "execution_count": 3,
      "metadata": {
        "id": "ozDWAJTP3UsB",
        "colab": {
          "base_uri": "https://localhost:8080/"
        },
        "outputId": "62c2a69c-60e6-4b15-a21e-89c87e5a00fa"
      },
      "outputs": [
        {
          "output_type": "execute_result",
          "data": {
            "text/plain": [
              "24.243918474687703"
            ]
          },
          "metadata": {},
          "execution_count": 3
        }
      ],
      "source": [
        "peso = 59\n",
        "altura = 1.56\n",
        "\n",
        "peso / (1.56 * 1.56)"
      ]
    },
    {
      "cell_type": "markdown",
      "source": [
        "## `print()`"
      ],
      "metadata": {
        "id": "miOXOqLIV8G_"
      }
    },
    {
      "cell_type": "code",
      "source": [
        "print(\"Hello World\")"
      ],
      "metadata": {
        "colab": {
          "base_uri": "https://localhost:8080/"
        },
        "id": "cJS9qkL5V--h",
        "outputId": "7fbc3655-5e64-470d-bb5c-5de36d597ab1"
      },
      "execution_count": null,
      "outputs": [
        {
          "output_type": "stream",
          "name": "stdout",
          "text": [
            "Hello World\n"
          ]
        }
      ]
    },
    {
      "cell_type": "code",
      "source": [
        "print(\"Olá pessoal!\")"
      ],
      "metadata": {
        "colab": {
          "base_uri": "https://localhost:8080/"
        },
        "id": "TlmSuVxfWFxD",
        "outputId": "0012c368-ee7b-4b2d-ffae-d5e77b422cd9"
      },
      "execution_count": null,
      "outputs": [
        {
          "output_type": "stream",
          "name": "stdout",
          "text": [
            "Olá pessoal!\n"
          ]
        }
      ]
    },
    {
      "cell_type": "code",
      "source": [
        "peso = 59\n",
        "print(peso)"
      ],
      "metadata": {
        "colab": {
          "base_uri": "https://localhost:8080/"
        },
        "id": "GiUbHGrEWI8w",
        "outputId": "1a990e59-b6d4-492e-a075-41dd07218c83"
      },
      "execution_count": 4,
      "outputs": [
        {
          "output_type": "stream",
          "name": "stdout",
          "text": [
            "59\n"
          ]
        }
      ]
    },
    {
      "cell_type": "code",
      "source": [
        "peso = 59\n",
        "altura = 1.56\n",
        "\n",
        "imc = peso / (altura * altura)\n",
        "print(imc)"
      ],
      "metadata": {
        "colab": {
          "base_uri": "https://localhost:8080/"
        },
        "id": "WQqSMCfEXEnp",
        "outputId": "4a694af9-8680-4699-ffdf-4c930bd57b12"
      },
      "execution_count": 5,
      "outputs": [
        {
          "output_type": "stream",
          "name": "stdout",
          "text": [
            "24.243918474687703\n"
          ]
        }
      ]
    },
    {
      "cell_type": "code",
      "source": [
        "peso = 59\n",
        "altura = 1.56\n",
        "\n",
        "imc = peso / (altura * altura)\n",
        "print(\"Seu IMC é \", imc)"
      ],
      "metadata": {
        "colab": {
          "base_uri": "https://localhost:8080/"
        },
        "id": "Kf1JjPuwXdvn",
        "outputId": "910171db-6e3b-48c1-f7a9-cc2d0c04f0a8"
      },
      "execution_count": 6,
      "outputs": [
        {
          "output_type": "stream",
          "name": "stdout",
          "text": [
            "Seu IMC é  24.243918474687703\n"
          ]
        }
      ]
    },
    {
      "cell_type": "markdown",
      "source": [
        "## Mais de variáveis"
      ],
      "metadata": {
        "id": "zmZIMQBbYLrx"
      }
    },
    {
      "cell_type": "code",
      "source": [
        "frase = \"Sou a Teodora tentando praticar no python\"\n",
        "print(frase)"
      ],
      "metadata": {
        "colab": {
          "base_uri": "https://localhost:8080/"
        },
        "id": "UFiMB-TjYNNt",
        "outputId": "39154bc0-ab5b-46a8-f871-2336a5ab9fea"
      },
      "execution_count": 8,
      "outputs": [
        {
          "output_type": "stream",
          "name": "stdout",
          "text": [
            "Sou a Teodora tentando praticar no python\n"
          ]
        }
      ]
    },
    {
      "cell_type": "code",
      "source": [
        "nome = \"Teodora\"\n",
        "peso = 59\n",
        "altura = 1.56\n",
        "\n",
        "imc = peso / (altura * altura)\n",
        "print(nome, \"seu IMC é\", imc)"
      ],
      "metadata": {
        "colab": {
          "base_uri": "https://localhost:8080/"
        },
        "id": "DJ7GLshhYdkq",
        "outputId": "93905624-caa5-4ffe-dc63-cfc55c3fdc73"
      },
      "execution_count": 9,
      "outputs": [
        {
          "output_type": "stream",
          "name": "stdout",
          "text": [
            "Teodora seu IMC é 24.243918474687703\n"
          ]
        }
      ]
    }
  ]
}